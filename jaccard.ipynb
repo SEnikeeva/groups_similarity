{
 "cells": [
  {
   "cell_type": "markdown",
   "metadata": {},
   "source": [
    "# Рейтинг друзей по jaccard similarity"
   ]
  },
  {
   "cell_type": "code",
   "execution_count": 2,
   "metadata": {},
   "outputs": [],
   "source": [
    "import collections\n",
    "import vk\n",
    "import pandas as pd\n",
    "import time"
   ]
  },
  {
   "cell_type": "code",
   "execution_count": 9,
   "metadata": {},
   "outputs": [],
   "source": [
    "VK_TOKEN = 'aa9a438374e5f7808961c523653ba7217c1d8efdba09cfadcdbde9f1a1906e8e970e03a403e119dcbe740'\n",
    "ID = 10385605\n",
    "session = vk.Session(VK_TOKEN)\n",
    "vk_api = vk.API(session, v=5.103)\n",
    "deq = collections.deque(maxlen=4)"
   ]
  },
  {
   "cell_type": "markdown",
   "metadata": {},
   "source": [
    "Коэффициент Жаккарда "
   ]
  },
  {
   "cell_type": "code",
   "execution_count": 10,
   "metadata": {},
   "outputs": [],
   "source": [
    "def jaccard(l1, l2):\n",
    "    intersec = len(l1.intersection(l2))\n",
    "    union = len(l1.union(l2))\n",
    "    return intersec / union"
   ]
  },
  {
   "cell_type": "markdown",
   "metadata": {},
   "source": [
    "Метод возвращает список тематик групп пользователя"
   ]
  },
  {
   "cell_type": "code",
   "execution_count": 11,
   "metadata": {},
   "outputs": [],
   "source": [
    "def get_groups_activity(id):\n",
    "    deq.appendleft(time.time())\n",
    "    if len(deq) == 4:\n",
    "        time.sleep(max(1 + deq[3] - deq[0], 0))\n",
    "    groups = vk_api.groups.get(user_id=id, fields=['activity'], extended=1)\n",
    "    activities = []\n",
    "    for group in groups['items']:\n",
    "        try:\n",
    "            activities.append(group['activity'])\n",
    "        except Exception:\n",
    "            continue\n",
    "    return activities"
   ]
  },
  {
   "cell_type": "markdown",
   "metadata": {},
   "source": [
    "Возвращает топ друзей по мере Жаккарда"
   ]
  },
  {
   "cell_type": "code",
   "execution_count": 12,
   "metadata": {},
   "outputs": [],
   "source": [
    "def get_rating():\n",
    "    deq.appendleft(time.time())\n",
    "    if len(deq) == 4:\n",
    "        time.sleep(max(1 + deq[3] - deq[0], 0))\n",
    "    my_activities = get_groups_activity(ID)\n",
    "    df = pd.DataFrame(columns=['friend_name', 'jaccard'])\n",
    "    i = 0\n",
    "    friends = vk_api.friends.get(user_id=ID, extended=1, fields='nickname')['items']\n",
    "    for friend in friends:\n",
    "        try:\n",
    "            activities = get_groups_activity(friend['id'])\n",
    "            similarity = jaccard(set(my_activities), set(activities))\n",
    "            friend_name = friend['first_name'] + ' ' + friend['last_name']\n",
    "            df.loc[i] = [friend_name, similarity]\n",
    "            i += 1\n",
    "        except Exception:\n",
    "            continue\n",
    "    df = df.sort_values(by='jaccard', ascending=False)\n",
    "    return df"
   ]
  },
  {
   "cell_type": "code",
   "execution_count": 13,
   "metadata": {},
   "outputs": [
    {
     "data": {
      "text/html": [
       "<div>\n",
       "<style scoped>\n",
       "    .dataframe tbody tr th:only-of-type {\n",
       "        vertical-align: middle;\n",
       "    }\n",
       "\n",
       "    .dataframe tbody tr th {\n",
       "        vertical-align: top;\n",
       "    }\n",
       "\n",
       "    .dataframe thead th {\n",
       "        text-align: right;\n",
       "    }\n",
       "</style>\n",
       "<table border=\"1\" class=\"dataframe\">\n",
       "  <thead>\n",
       "    <tr style=\"text-align: right;\">\n",
       "      <th></th>\n",
       "      <th>friend_name</th>\n",
       "      <th>jaccard</th>\n",
       "    </tr>\n",
       "  </thead>\n",
       "  <tbody>\n",
       "    <tr>\n",
       "      <th>219</th>\n",
       "      <td>Ксюша Панова</td>\n",
       "      <td>0.365854</td>\n",
       "    </tr>\n",
       "    <tr>\n",
       "      <th>90</th>\n",
       "      <td>Азат Нафиков</td>\n",
       "      <td>0.352941</td>\n",
       "    </tr>\n",
       "    <tr>\n",
       "      <th>43</th>\n",
       "      <td>Ярослав Петров</td>\n",
       "      <td>0.350515</td>\n",
       "    </tr>\n",
       "    <tr>\n",
       "      <th>296</th>\n",
       "      <td>Анастасия Самилова</td>\n",
       "      <td>0.346154</td>\n",
       "    </tr>\n",
       "    <tr>\n",
       "      <th>119</th>\n",
       "      <td>Артур Мулихов</td>\n",
       "      <td>0.340426</td>\n",
       "    </tr>\n",
       "    <tr>\n",
       "      <th>...</th>\n",
       "      <td>...</td>\n",
       "      <td>...</td>\n",
       "    </tr>\n",
       "    <tr>\n",
       "      <th>325</th>\n",
       "      <td>Егор Яровиков</td>\n",
       "      <td>0.015625</td>\n",
       "    </tr>\n",
       "    <tr>\n",
       "      <th>281</th>\n",
       "      <td>Гульчачак Айнуллова</td>\n",
       "      <td>0.015385</td>\n",
       "    </tr>\n",
       "    <tr>\n",
       "      <th>144</th>\n",
       "      <td>Руслан Бикчентаев</td>\n",
       "      <td>0.000000</td>\n",
       "    </tr>\n",
       "    <tr>\n",
       "      <th>3</th>\n",
       "      <td>Alexander Yukhimenko</td>\n",
       "      <td>0.000000</td>\n",
       "    </tr>\n",
       "    <tr>\n",
       "      <th>338</th>\n",
       "      <td>Анвар Чернов</td>\n",
       "      <td>0.000000</td>\n",
       "    </tr>\n",
       "  </tbody>\n",
       "</table>\n",
       "<p>367 rows × 2 columns</p>\n",
       "</div>"
      ],
      "text/plain": [
       "              friend_name   jaccard\n",
       "219          Ксюша Панова  0.365854\n",
       "90           Азат Нафиков  0.352941\n",
       "43         Ярослав Петров  0.350515\n",
       "296    Анастасия Самилова  0.346154\n",
       "119         Артур Мулихов  0.340426\n",
       "..                    ...       ...\n",
       "325         Егор Яровиков  0.015625\n",
       "281   Гульчачак Айнуллова  0.015385\n",
       "144     Руслан Бикчентаев  0.000000\n",
       "3    Alexander Yukhimenko  0.000000\n",
       "338          Анвар Чернов  0.000000\n",
       "\n",
       "[367 rows x 2 columns]"
      ]
     },
     "execution_count": 13,
     "metadata": {},
     "output_type": "execute_result"
    }
   ],
   "source": [
    "df = get_rating()\n",
    "df"
   ]
  },
  {
   "cell_type": "code",
   "execution_count": null,
   "metadata": {},
   "outputs": [],
   "source": []
  }
 ],
 "metadata": {
  "kernelspec": {
   "display_name": "Python 3",
   "language": "python",
   "name": "python3"
  },
  "language_info": {
   "codemirror_mode": {
    "name": "ipython",
    "version": 3
   },
   "file_extension": ".py",
   "mimetype": "text/x-python",
   "name": "python",
   "nbconvert_exporter": "python",
   "pygments_lexer": "ipython3",
   "version": "3.6.8"
  }
 },
 "nbformat": 4,
 "nbformat_minor": 2
}
