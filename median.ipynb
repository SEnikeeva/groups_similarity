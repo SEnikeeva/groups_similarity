{
 "cells": [
  {
   "cell_type": "markdown",
   "metadata": {},
   "source": [
    "# Рейтинг пользователей по количеству друзей в группах."
   ]
  },
  {
   "cell_type": "code",
   "execution_count": 21,
   "metadata": {},
   "outputs": [],
   "source": [
    "import collections\n",
    "import vk\n",
    "import pandas as pd\n",
    "import time"
   ]
  },
  {
   "cell_type": "code",
   "execution_count": 22,
   "metadata": {},
   "outputs": [],
   "source": [
    "VK_TOKEN = 'aa9a438374e5f7808961c523653ba7217c1d8efdba09cfadcdbde9f1a1906e8e970e03a403e119dcbe740'\n",
    "ID = 10385605\n",
    "session = vk.Session(VK_TOKEN)\n",
    "vk_api = vk.API(session, v=5.103)\n",
    "#очередь регулирует количество запросов в секунду \n",
    "deq = collections.deque(maxlen=4)"
   ]
  },
  {
   "cell_type": "markdown",
   "metadata": {},
   "source": [
    "Метод считает медиану списка"
   ]
  },
  {
   "cell_type": "code",
   "execution_count": 23,
   "metadata": {},
   "outputs": [],
   "source": [
    "def median(l):\n",
    "    deq.appendleft(time.time())\n",
    "    if len(deq) == 4:\n",
    "        time.sleep(max(1 + deq[3] - deq[0], 0))\n",
    "    l = sorted(l)\n",
    "    if len(l) % 2 == 1:\n",
    "        return l[int(len(l) / 2)]\n",
    "    else:\n",
    "        return (l[int(len(l) / 2 - 1)] + l[int(len(l) / 2)]) / 2"
   ]
  },
  {
   "cell_type": "markdown",
   "metadata": {},
   "source": [
    "Медиана списка, содержащего количество друзей для каждой группы пользователя"
   ]
  },
  {
   "cell_type": "code",
   "execution_count": 24,
   "metadata": {},
   "outputs": [],
   "source": [
    "def get_med(id):\n",
    "    deq.appendleft(time.time())\n",
    "    if len(deq) == 4:\n",
    "        time.sleep(max(1 + deq[3] - deq[0], 0))\n",
    "    count_friends =[]\n",
    "    groups = vk_api.groups.get(user_id=id)\n",
    "    for group in groups['items']:\n",
    "        try:\n",
    "            count_friends.append(vk_api.groups.getMembers(group_id=group, filter='friends')['count'])\n",
    "        except Exception:\n",
    "            continue\n",
    "    return median(count_friends)"
   ]
  },
  {
   "cell_type": "markdown",
   "metadata": {},
   "source": [
    "Метод составляет рейтинг друзей, основываясь на их медиане "
   ]
  },
  {
   "cell_type": "code",
   "execution_count": 25,
   "metadata": {},
   "outputs": [],
   "source": [
    "def get_my_rating(id):\n",
    "    deq.appendleft(time.time())\n",
    "    if len(deq) == 4:\n",
    "        time.sleep(max(1 + deq[3] - deq[0], 0))\n",
    "    friends = vk_api.friends.get(user_id=id, extended=1, fields='nickname')['items']\n",
    "    df = pd.DataFrame(columns=['friend_name', 'median'])\n",
    "    i = 0\n",
    "    for friend in friends:\n",
    "        try:\n",
    "            med = get_med(friend['id'])\n",
    "            friend_name = friend['first_name'] + ' ' + friend['last_name']\n",
    "            df.loc[i] = [friend_name, int (med)]\n",
    "            i += 1\n",
    "        except Exception:\n",
    "\n",
    "            continue\n",
    "    df = df.sort_values(by='median', ascending=False)\n",
    "    return df"
   ]
  },
  {
   "cell_type": "code",
   "execution_count": 26,
   "metadata": {},
   "outputs": [
    {
     "data": {
      "text/html": [
       "<div>\n",
       "<style scoped>\n",
       "    .dataframe tbody tr th:only-of-type {\n",
       "        vertical-align: middle;\n",
       "    }\n",
       "\n",
       "    .dataframe tbody tr th {\n",
       "        vertical-align: top;\n",
       "    }\n",
       "\n",
       "    .dataframe thead th {\n",
       "        text-align: right;\n",
       "    }\n",
       "</style>\n",
       "<table border=\"1\" class=\"dataframe\">\n",
       "  <thead>\n",
       "    <tr style=\"text-align: right;\">\n",
       "      <th></th>\n",
       "      <th>friend_name</th>\n",
       "      <th>median</th>\n",
       "    </tr>\n",
       "  </thead>\n",
       "  <tbody>\n",
       "    <tr>\n",
       "      <th>94</th>\n",
       "      <td>Анжелика Романова</td>\n",
       "      <td>42</td>\n",
       "    </tr>\n",
       "    <tr>\n",
       "      <th>99</th>\n",
       "      <td>Иван Брекоткин</td>\n",
       "      <td>38</td>\n",
       "    </tr>\n",
       "    <tr>\n",
       "      <th>22</th>\n",
       "      <td>Ринат Шигапов</td>\n",
       "      <td>29</td>\n",
       "    </tr>\n",
       "    <tr>\n",
       "      <th>76</th>\n",
       "      <td>Марсель Сидиков</td>\n",
       "      <td>24</td>\n",
       "    </tr>\n",
       "    <tr>\n",
       "      <th>49</th>\n",
       "      <td>Мансур Гарипов</td>\n",
       "      <td>24</td>\n",
       "    </tr>\n",
       "    <tr>\n",
       "      <th>...</th>\n",
       "      <td>...</td>\n",
       "      <td>...</td>\n",
       "    </tr>\n",
       "    <tr>\n",
       "      <th>47</th>\n",
       "      <td>Дарина Зайнуллина</td>\n",
       "      <td>1</td>\n",
       "    </tr>\n",
       "    <tr>\n",
       "      <th>51</th>\n",
       "      <td>Тоня Кудряшова</td>\n",
       "      <td>1</td>\n",
       "    </tr>\n",
       "    <tr>\n",
       "      <th>81</th>\n",
       "      <td>Максим Сандин</td>\n",
       "      <td>1</td>\n",
       "    </tr>\n",
       "    <tr>\n",
       "      <th>80</th>\n",
       "      <td>Карина Король</td>\n",
       "      <td>1</td>\n",
       "    </tr>\n",
       "    <tr>\n",
       "      <th>103</th>\n",
       "      <td>Руслан Сатдинов</td>\n",
       "      <td>1</td>\n",
       "    </tr>\n",
       "  </tbody>\n",
       "</table>\n",
       "<p>104 rows × 2 columns</p>\n",
       "</div>"
      ],
      "text/plain": [
       "           friend_name median\n",
       "94   Анжелика Романова     42\n",
       "99      Иван Брекоткин     38\n",
       "22       Ринат Шигапов     29\n",
       "76     Марсель Сидиков     24\n",
       "49      Мансур Гарипов     24\n",
       "..                 ...    ...\n",
       "47   Дарина Зайнуллина      1\n",
       "51      Тоня Кудряшова      1\n",
       "81       Максим Сандин      1\n",
       "80       Карина Король      1\n",
       "103    Руслан Сатдинов      1\n",
       "\n",
       "[104 rows x 2 columns]"
      ]
     },
     "execution_count": 26,
     "metadata": {},
     "output_type": "execute_result"
    }
   ],
   "source": [
    "df = get_my_rating(ID)\n",
    "df"
   ]
  },
  {
   "cell_type": "code",
   "execution_count": null,
   "metadata": {},
   "outputs": [],
   "source": []
  }
 ],
 "metadata": {
  "kernelspec": {
   "display_name": "Python 3",
   "language": "python",
   "name": "python3"
  },
  "language_info": {
   "codemirror_mode": {
    "name": "ipython",
    "version": 3
   },
   "file_extension": ".py",
   "mimetype": "text/x-python",
   "name": "python",
   "nbconvert_exporter": "python",
   "pygments_lexer": "ipython3",
   "version": "3.6.8"
  }
 },
 "nbformat": 4,
 "nbformat_minor": 2
}
