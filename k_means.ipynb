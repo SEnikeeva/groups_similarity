{
 "cells": [
  {
   "cell_type": "code",
   "execution_count": 98,
   "metadata": {},
   "outputs": [],
   "source": [
    "import pandas as pd\n",
    "import numpy as np\n",
    "from scipy.spatial import distance\n",
    "import matplotlib.pyplot as plt\n",
    "import matplotlib.colors as colors\n",
    "import warnings\n",
    "warnings.filterwarnings('ignore')\n",
    "\n",
    "NUM_OF_CLUSTERS = 4"
   ]
  },
  {
   "cell_type": "code",
   "execution_count": 99,
   "metadata": {},
   "outputs": [
    {
     "data": {
      "text/html": [
       "<div>\n",
       "<style scoped>\n",
       "    .dataframe tbody tr th:only-of-type {\n",
       "        vertical-align: middle;\n",
       "    }\n",
       "\n",
       "    .dataframe tbody tr th {\n",
       "        vertical-align: top;\n",
       "    }\n",
       "\n",
       "    .dataframe thead th {\n",
       "        text-align: right;\n",
       "    }\n",
       "</style>\n",
       "<table border=\"1\" class=\"dataframe\">\n",
       "  <thead>\n",
       "    <tr style=\"text-align: right;\">\n",
       "      <th></th>\n",
       "      <th>x</th>\n",
       "      <th>y</th>\n",
       "    </tr>\n",
       "  </thead>\n",
       "  <tbody>\n",
       "    <tr>\n",
       "      <th>0</th>\n",
       "      <td>4</td>\n",
       "      <td>10</td>\n",
       "    </tr>\n",
       "    <tr>\n",
       "      <th>1</th>\n",
       "      <td>7</td>\n",
       "      <td>10</td>\n",
       "    </tr>\n",
       "    <tr>\n",
       "      <th>2</th>\n",
       "      <td>4</td>\n",
       "      <td>8</td>\n",
       "    </tr>\n",
       "    <tr>\n",
       "      <th>3</th>\n",
       "      <td>6</td>\n",
       "      <td>8</td>\n",
       "    </tr>\n",
       "    <tr>\n",
       "      <th>4</th>\n",
       "      <td>3</td>\n",
       "      <td>4</td>\n",
       "    </tr>\n",
       "    <tr>\n",
       "      <th>5</th>\n",
       "      <td>2</td>\n",
       "      <td>2</td>\n",
       "    </tr>\n",
       "    <tr>\n",
       "      <th>6</th>\n",
       "      <td>5</td>\n",
       "      <td>2</td>\n",
       "    </tr>\n",
       "    <tr>\n",
       "      <th>7</th>\n",
       "      <td>12</td>\n",
       "      <td>3</td>\n",
       "    </tr>\n",
       "    <tr>\n",
       "      <th>8</th>\n",
       "      <td>11</td>\n",
       "      <td>4</td>\n",
       "    </tr>\n",
       "    <tr>\n",
       "      <th>9</th>\n",
       "      <td>10</td>\n",
       "      <td>5</td>\n",
       "    </tr>\n",
       "    <tr>\n",
       "      <th>10</th>\n",
       "      <td>12</td>\n",
       "      <td>6</td>\n",
       "    </tr>\n",
       "    <tr>\n",
       "      <th>11</th>\n",
       "      <td>9</td>\n",
       "      <td>3</td>\n",
       "    </tr>\n",
       "  </tbody>\n",
       "</table>\n",
       "</div>"
      ],
      "text/plain": [
       "     x   y\n",
       "0    4  10\n",
       "1    7  10\n",
       "2    4   8\n",
       "3    6   8\n",
       "4    3   4\n",
       "5    2   2\n",
       "6    5   2\n",
       "7   12   3\n",
       "8   11   4\n",
       "9   10   5\n",
       "10  12   6\n",
       "11   9   3"
      ]
     },
     "execution_count": 99,
     "metadata": {},
     "output_type": "execute_result"
    }
   ],
   "source": [
    "vc = pd.read_csv('k-means.csv', sep=';', )\n",
    "vc"
   ]
  },
  {
   "cell_type": "code",
   "execution_count": 100,
   "metadata": {},
   "outputs": [],
   "source": [
    "def init_centers(vc, NUM_OF_CLUSTERS):\n",
    "    center = (vc.x.sum()/len(vc), vc.y.sum()/len(vc))\n",
    "    vc['dist'] = pd.Series([])\n",
    "    for i in range(len(vc)):\n",
    "        vector = (vc['x'][i], vc['x'][i])\n",
    "        vc['dist'][i] = distance.euclidean(center, vector)\n",
    "    vc = vc.sort_values(by='dist', ascending=False)\n",
    "    vc = vc.reset_index(drop=True)\n",
    "    vc = vc[:NUM_OF_CLUSTERS]\n",
    "    return vc[['x', 'y']].to_numpy().tolist()"
   ]
  },
  {
   "cell_type": "code",
   "execution_count": 101,
   "metadata": {},
   "outputs": [],
   "source": [
    "def argmin(centers, vec):  \n",
    "    dsts=[distance.euclidean(c, vec) for c in centers]\n",
    "    return np.argmin(dsts)"
   ]
  },
  {
   "cell_type": "code",
   "execution_count": 102,
   "metadata": {},
   "outputs": [],
   "source": [
    "def distribution(centers, vc):\n",
    "    clusters = []\n",
    "    for i in range(NUM_OF_CLUSTERS):\n",
    "        clusters.append(pd.DataFrame(columns=['x', 'y']))\n",
    "    for i in range(len(vc)):  \n",
    "        index = argmin(centers, (vc['x'][i], vc['y'][i]))\n",
    "        idx = len(clusters[index])\n",
    "        clusters[index].loc[idx, 'x'] = vc.loc[i, 'x']\n",
    "        clusters[index].loc[idx, 'y'] = vc.loc[i, 'y']\n",
    "    return clusters"
   ]
  },
  {
   "cell_type": "code",
   "execution_count": 103,
   "metadata": {},
   "outputs": [],
   "source": [
    "def new_centers(clusters, centers):\n",
    "    newcenters = []\n",
    "    j = 0\n",
    "    for cluster in clusters:\n",
    "        summ = np.zeros(2)\n",
    "        size = len(cluster)\n",
    "        for i in range(size):\n",
    "            vec = cluster.loc[i]\n",
    "            summ += np.array([vec[0], vec[1]])\n",
    "        if size != 0:\n",
    "            newcenters.append((summ / size).tolist())\n",
    "        else:\n",
    "            newcenters.append(centers[j])\n",
    "        j += 1\n",
    "        \n",
    "    return newcenters"
   ]
  },
  {
   "cell_type": "code",
   "execution_count": 104,
   "metadata": {},
   "outputs": [],
   "source": [
    "def k_means(vc, NUM_OF_CLUSTERS):\n",
    "    \n",
    "    centers = init_centers(vc, NUM_OF_CLUSTERS)\n",
    "    flag = True\n",
    "    clusters=[]\n",
    "    \n",
    "    while flag:\n",
    "        clusters = distribution(centers, vc)\n",
    "        newcenters = new_centers(clusters, centers)\n",
    "        flag = centers != newcenters\n",
    "        centers = newcenters\n",
    "        \n",
    "    return clusters"
   ]
  },
  {
   "cell_type": "code",
   "execution_count": 105,
   "metadata": {},
   "outputs": [
    {
     "data": {
      "image/png": "[encoded data removed]",
      "text/plain": [
       "<Figure size 2160x720 with 1 Axes>"
      ]
     },
     "metadata": {
      "needs_background": "light"
     },
     "output_type": "display_data"
    }
   ],
   "source": [
    "clusters = k_means(vc, NUM_OF_CLUSTERS)\n",
    "plt.figure(figsize=(30, 10))\n",
    "colors_list = list(colors._colors_full_map.values())\n",
    "for j in range(len(clusters)):\n",
    "    c = clusters[j]\n",
    "    col = colors_list[j]\n",
    "    for i in range(len(c)):\n",
    "        plt.scatter(c['x'][i], c['y'][i], color=col, s=200, marker='o')\n",
    "plt.grid(True)\n",
    "plt.show()"
   ]
  },
  {
   "cell_type": "code",
   "execution_count": null,
   "metadata": {},
   "outputs": [],
   "source": []
  }
 ],
 "metadata": {
  "kernelspec": {
   "display_name": "Python 3",
   "language": "python",
   "name": "python3"
  },
  "language_info": {
   "codemirror_mode": {
    "name": "ipython",
    "version": 3
   },
   "file_extension": ".py",
   "mimetype": "text/x-python",
   "name": "python",
   "nbconvert_exporter": "python",
   "pygments_lexer": "ipython3",
   "version": "3.6.9"
  }
 },
 "nbformat": 4,
 "nbformat_minor": 2
}
