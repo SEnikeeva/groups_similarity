{
 "cells": [
  {
   "cell_type": "markdown",
   "metadata": {},
   "source": [
    "# Калибровка друзей по интересам в группах Вконтакте. "
   ]
  },
  {
   "cell_type": "code",
   "execution_count": 10,
   "metadata": {},
   "outputs": [],
   "source": [
    "import collections\n",
    "import vk\n",
    "import pandas as pd\n",
    "import time"
   ]
  },
  {
   "cell_type": "markdown",
   "metadata": {},
   "source": [
    "Подключение VK API к проекту:"
   ]
  },
  {
   "cell_type": "code",
   "execution_count": 11,
   "metadata": {},
   "outputs": [],
   "source": [
    "VK_TOKEN = '311cf83a74eb63d1a515fb243ce91ea95ebc73982ae77f0452c2338390042137481f6ece102db4c1aa400'\n",
    "ID = 10385605\n",
    "session = vk.Session(VK_TOKEN)\n",
    "vk_api = vk.API(session, v=5.103)\n",
    "deq = collections.deque(maxlen=4)"
   ]
  },
  {
   "cell_type": "markdown",
   "metadata": {},
   "source": [
    "Определим методы для дальнейшей работы:"
   ]
  },
  {
   "cell_type": "markdown",
   "metadata": {},
   "source": [
    "Метод возвращает список тематик групп по id пользователя."
   ]
  },
  {
   "cell_type": "code",
   "execution_count": 3,
   "metadata": {},
   "outputs": [],
   "source": [
    "def get_groups_activity(id):\n",
    "    deq.appendleft(time.time())\n",
    "    if len(deq) == 4:\n",
    "        time.sleep(max(1 + deq[3] - deq[0], 0))\n",
    "    groups = vk_api.groups.get(user_id=id, fields=['activity'], extended=1)\n",
    "    activities = []\n",
    "    for group in groups['items']:\n",
    "        try:\n",
    "            activities.append(group['activity'])\n",
    "        except Exception:\n",
    "            continue\n",
    "    return activities"
   ]
  },
  {
   "cell_type": "markdown",
   "metadata": {},
   "source": [
    "Получаем процентное соотношение конкретного типа группы ко всем группам. Метод возвращает первые 10 по полуряности тематики."
   ]
  },
  {
   "cell_type": "code",
   "execution_count": 4,
   "metadata": {},
   "outputs": [],
   "source": [
    "def get_percents(activities):\n",
    "    deq.appendleft(time.time())\n",
    "    if len(deq) == 4:\n",
    "        time.sleep(max(1 + deq[3] - deq[0], 0))\n",
    "    df = pd.DataFrame(data= activities, columns=['activity'])\n",
    "    df = df.loc[(df.loc[:, 'activity'] != 'Открытая группа') & (df.loc[:, 'activity'] != 'Закрытая группа')]\n",
    "    df['count'] = 1\n",
    "    df2 = df.groupby('activity').count()\n",
    "    df2['percent'] = df2['count'] / len(df.index) * 100\n",
    "    df2 = df2.sort_values(by = 'percent', ascending = False)\n",
    "    activities = df2.index\n",
    "    df2['activity'] = activities\n",
    "    df2['index'] = range(len(df2))\n",
    "    df2 = df2.set_index('index')\n",
    "    return df2.head(10)"
   ]
  },
  {
   "cell_type": "markdown",
   "metadata": {},
   "source": [
    "Вычисляем сколько групп из моего топа и топа дрга совпадают (с погрешностью в 5 процентов)"
   ]
  },
  {
   "cell_type": "code",
   "execution_count": null,
   "metadata": {},
   "outputs": [],
   "source": [
    "def get_my_lieber_freund(first_p, second_p):\n",
    "    deq.appendleft(time.time())\n",
    "    if len(deq) == 4:\n",
    "        time.sleep(max(1 + deq[3] - deq[0], 0))\n",
    "    count = 0\n",
    "    for i in range(len(first_p)):  \n",
    "        for j in range(len(second_p)):\n",
    "            if (first_p.loc[i, 'activity'] == second_p.loc[j, 'activity']) &  (abs(first_p.loc[i, 'percent'] - second_p.loc[j, 'percent']) < 5):\n",
    "                count += 1\n",
    "    return count"
   ]
  },
  {
   "cell_type": "markdown",
   "metadata": {},
   "source": [
    "Мой список популярных тематик"
   ]
  },
  {
   "cell_type": "code",
   "execution_count": 6,
   "metadata": {},
   "outputs": [
    {
     "data": {
      "text/html": [
       "<div>\n",
       "<style scoped>\n",
       "    .dataframe tbody tr th:only-of-type {\n",
       "        vertical-align: middle;\n",
       "    }\n",
       "\n",
       "    .dataframe tbody tr th {\n",
       "        vertical-align: top;\n",
       "    }\n",
       "\n",
       "    .dataframe thead th {\n",
       "        text-align: right;\n",
       "    }\n",
       "</style>\n",
       "<table border=\"1\" class=\"dataframe\">\n",
       "  <thead>\n",
       "    <tr style=\"text-align: right;\">\n",
       "      <th></th>\n",
       "      <th>count</th>\n",
       "      <th>percent</th>\n",
       "      <th>activity</th>\n",
       "    </tr>\n",
       "    <tr>\n",
       "      <th>index</th>\n",
       "      <th></th>\n",
       "      <th></th>\n",
       "      <th></th>\n",
       "    </tr>\n",
       "  </thead>\n",
       "  <tbody>\n",
       "    <tr>\n",
       "      <th>0</th>\n",
       "      <td>12</td>\n",
       "      <td>10.344828</td>\n",
       "      <td>Образование</td>\n",
       "    </tr>\n",
       "    <tr>\n",
       "      <th>1</th>\n",
       "      <td>11</td>\n",
       "      <td>9.482759</td>\n",
       "      <td>Интернет-СМИ</td>\n",
       "    </tr>\n",
       "    <tr>\n",
       "      <th>2</th>\n",
       "      <td>9</td>\n",
       "      <td>7.758621</td>\n",
       "      <td>Музыкант</td>\n",
       "    </tr>\n",
       "    <tr>\n",
       "      <th>3</th>\n",
       "      <td>6</td>\n",
       "      <td>5.172414</td>\n",
       "      <td>Творчество</td>\n",
       "    </tr>\n",
       "    <tr>\n",
       "      <th>4</th>\n",
       "      <td>5</td>\n",
       "      <td>4.310345</td>\n",
       "      <td>Музыкальная группа</td>\n",
       "    </tr>\n",
       "    <tr>\n",
       "      <th>5</th>\n",
       "      <td>4</td>\n",
       "      <td>3.448276</td>\n",
       "      <td>Музыка</td>\n",
       "    </tr>\n",
       "    <tr>\n",
       "      <th>6</th>\n",
       "      <td>4</td>\n",
       "      <td>3.448276</td>\n",
       "      <td>Юмор</td>\n",
       "    </tr>\n",
       "    <tr>\n",
       "      <th>7</th>\n",
       "      <td>4</td>\n",
       "      <td>3.448276</td>\n",
       "      <td>Наука</td>\n",
       "    </tr>\n",
       "    <tr>\n",
       "      <th>8</th>\n",
       "      <td>3</td>\n",
       "      <td>2.586207</td>\n",
       "      <td>Искусство и развлечения</td>\n",
       "    </tr>\n",
       "    <tr>\n",
       "      <th>9</th>\n",
       "      <td>3</td>\n",
       "      <td>2.586207</td>\n",
       "      <td>Городское сообщество</td>\n",
       "    </tr>\n",
       "  </tbody>\n",
       "</table>\n",
       "</div>"
      ],
      "text/plain": [
       "       count    percent                 activity\n",
       "index                                           \n",
       "0         12  10.344828              Образование\n",
       "1         11   9.482759             Интернет-СМИ\n",
       "2          9   7.758621                 Музыкант\n",
       "3          6   5.172414               Творчество\n",
       "4          5   4.310345       Музыкальная группа\n",
       "5          4   3.448276                   Музыка\n",
       "6          4   3.448276                     Юмор\n",
       "7          4   3.448276                    Наука\n",
       "8          3   2.586207  Искусство и развлечения\n",
       "9          3   2.586207     Городское сообщество"
      ]
     },
     "execution_count": 6,
     "metadata": {},
     "output_type": "execute_result"
    }
   ],
   "source": [
    "my_activities = get_groups_activity(ID)\n",
    "my_percents = get_percents(my_activities)\n",
    "my_percents"
   ]
  },
  {
   "cell_type": "markdown",
   "metadata": {},
   "source": [
    "Получение списка друзей"
   ]
  },
  {
   "cell_type": "code",
   "execution_count": 8,
   "metadata": {},
   "outputs": [],
   "source": [
    "friends = vk_api.friends.get(user_id=ID, extended=1, fields='nickname')['items']\n",
    "df = pd.DataFrame(columns=['friend_name', 'count'])\n",
    "i = 0\n",
    "deq.appendleft(time.time())\n",
    "if len(deq) == 4:\n",
    "    time.sleep(max(1 + deq[3] - deq[0], 0))"
   ]
  },
  {
   "cell_type": "markdown",
   "metadata": {},
   "source": [
    "Проходим по каждому другу. И вычисляем сколько у каждого друга общих типов групп с нашими. Выводим топ друзей."
   ]
  },
  {
   "cell_type": "code",
   "execution_count": 12,
   "metadata": {},
   "outputs": [],
   "source": [
    "for friend in friends: \n",
    "    try:\n",
    "        fr_activities = get_groups_activity(friend['id'])\n",
    "        fr_percents = get_percents(fr_activities)\n",
    "        friend_name = friend['first_name'] + ' ' + friend['last_name']\n",
    "        count = get_my_lieber_freund(my_percents, fr_percents)\n",
    "        df.loc[i] = [friend_name, count]\n",
    "        i += 1\n",
    "    except Exception:\n",
    "        continue\n",
    "\n",
    "df = df.sort_values(by='count', ascending=False)"
   ]
  },
  {
   "cell_type": "code",
   "execution_count": 13,
   "metadata": {},
   "outputs": [
    {
     "data": {
      "text/html": [
       "<div>\n",
       "<style scoped>\n",
       "    .dataframe tbody tr th:only-of-type {\n",
       "        vertical-align: middle;\n",
       "    }\n",
       "\n",
       "    .dataframe tbody tr th {\n",
       "        vertical-align: top;\n",
       "    }\n",
       "\n",
       "    .dataframe thead th {\n",
       "        text-align: right;\n",
       "    }\n",
       "</style>\n",
       "<table border=\"1\" class=\"dataframe\">\n",
       "  <thead>\n",
       "    <tr style=\"text-align: right;\">\n",
       "      <th></th>\n",
       "      <th>friend_name</th>\n",
       "      <th>count</th>\n",
       "    </tr>\n",
       "  </thead>\n",
       "  <tbody>\n",
       "    <tr>\n",
       "      <th>249</th>\n",
       "      <td>Максим Ратнер</td>\n",
       "      <td>6</td>\n",
       "    </tr>\n",
       "    <tr>\n",
       "      <th>674</th>\n",
       "      <td>Карим Гимадеев</td>\n",
       "      <td>6</td>\n",
       "    </tr>\n",
       "    <tr>\n",
       "      <th>618</th>\n",
       "      <td>Тимур Хайрутдинов</td>\n",
       "      <td>6</td>\n",
       "    </tr>\n",
       "    <tr>\n",
       "      <th>630</th>\n",
       "      <td>Аня Изгарова</td>\n",
       "      <td>6</td>\n",
       "    </tr>\n",
       "    <tr>\n",
       "      <th>283</th>\n",
       "      <td>Ильфат Гизатуллин</td>\n",
       "      <td>5</td>\n",
       "    </tr>\n",
       "    <tr>\n",
       "      <th>...</th>\n",
       "      <td>...</td>\n",
       "      <td>...</td>\n",
       "    </tr>\n",
       "    <tr>\n",
       "      <th>312</th>\n",
       "      <td>Евгений Разинков</td>\n",
       "      <td>0</td>\n",
       "    </tr>\n",
       "    <tr>\n",
       "      <th>639</th>\n",
       "      <td>Дмитрий Леонтьев</td>\n",
       "      <td>0</td>\n",
       "    </tr>\n",
       "    <tr>\n",
       "      <th>636</th>\n",
       "      <td>Динна Кузнецова</td>\n",
       "      <td>0</td>\n",
       "    </tr>\n",
       "    <tr>\n",
       "      <th>627</th>\n",
       "      <td>Вильям Нюьсом</td>\n",
       "      <td>0</td>\n",
       "    </tr>\n",
       "    <tr>\n",
       "      <th>692</th>\n",
       "      <td>Андрей Новиков</td>\n",
       "      <td>0</td>\n",
       "    </tr>\n",
       "  </tbody>\n",
       "</table>\n",
       "<p>379 rows × 2 columns</p>\n",
       "</div>"
      ],
      "text/plain": [
       "           friend_name count\n",
       "249      Максим Ратнер     6\n",
       "674     Карим Гимадеев     6\n",
       "618  Тимур Хайрутдинов     6\n",
       "630       Аня Изгарова     6\n",
       "283  Ильфат Гизатуллин     5\n",
       "..                 ...   ...\n",
       "312   Евгений Разинков     0\n",
       "639   Дмитрий Леонтьев     0\n",
       "636    Динна Кузнецова     0\n",
       "627      Вильям Нюьсом     0\n",
       "692     Андрей Новиков     0\n",
       "\n",
       "[379 rows x 2 columns]"
      ]
     },
     "execution_count": 13,
     "metadata": {},
     "output_type": "execute_result"
    }
   ],
   "source": [
    "df"
   ]
  },
  {
   "cell_type": "code",
   "execution_count": 14,
   "metadata": {},
   "outputs": [
    {
     "data": {
      "text/html": [
       "<div>\n",
       "<style scoped>\n",
       "    .dataframe tbody tr th:only-of-type {\n",
       "        vertical-align: middle;\n",
       "    }\n",
       "\n",
       "    .dataframe tbody tr th {\n",
       "        vertical-align: top;\n",
       "    }\n",
       "\n",
       "    .dataframe thead th {\n",
       "        text-align: right;\n",
       "    }\n",
       "</style>\n",
       "<table border=\"1\" class=\"dataframe\">\n",
       "  <thead>\n",
       "    <tr style=\"text-align: right;\">\n",
       "      <th></th>\n",
       "      <th>friend_name</th>\n",
       "      <th>count</th>\n",
       "    </tr>\n",
       "  </thead>\n",
       "  <tbody>\n",
       "    <tr>\n",
       "      <th>249</th>\n",
       "      <td>Максим Ратнер</td>\n",
       "      <td>6</td>\n",
       "    </tr>\n",
       "    <tr>\n",
       "      <th>674</th>\n",
       "      <td>Карим Гимадеев</td>\n",
       "      <td>6</td>\n",
       "    </tr>\n",
       "    <tr>\n",
       "      <th>618</th>\n",
       "      <td>Тимур Хайрутдинов</td>\n",
       "      <td>6</td>\n",
       "    </tr>\n",
       "    <tr>\n",
       "      <th>630</th>\n",
       "      <td>Аня Изгарова</td>\n",
       "      <td>6</td>\n",
       "    </tr>\n",
       "    <tr>\n",
       "      <th>283</th>\n",
       "      <td>Ильфат Гизатуллин</td>\n",
       "      <td>5</td>\n",
       "    </tr>\n",
       "    <tr>\n",
       "      <th>483</th>\n",
       "      <td>Дина Гайнуллина</td>\n",
       "      <td>5</td>\n",
       "    </tr>\n",
       "    <tr>\n",
       "      <th>316</th>\n",
       "      <td>Айдар Гайнутдинов-Rammsteinovich</td>\n",
       "      <td>5</td>\n",
       "    </tr>\n",
       "    <tr>\n",
       "      <th>43</th>\n",
       "      <td>Ярослав Петров</td>\n",
       "      <td>5</td>\n",
       "    </tr>\n",
       "    <tr>\n",
       "      <th>45</th>\n",
       "      <td>Владимир Сухарев</td>\n",
       "      <td>5</td>\n",
       "    </tr>\n",
       "    <tr>\n",
       "      <th>489</th>\n",
       "      <td>Богдан Старовойтов</td>\n",
       "      <td>5</td>\n",
       "    </tr>\n",
       "  </tbody>\n",
       "</table>\n",
       "</div>"
      ],
      "text/plain": [
       "                          friend_name count\n",
       "249                     Максим Ратнер     6\n",
       "674                    Карим Гимадеев     6\n",
       "618                 Тимур Хайрутдинов     6\n",
       "630                      Аня Изгарова     6\n",
       "283                 Ильфат Гизатуллин     5\n",
       "483                   Дина Гайнуллина     5\n",
       "316  Айдар Гайнутдинов-Rammsteinovich     5\n",
       "43                     Ярослав Петров     5\n",
       "45                   Владимир Сухарев     5\n",
       "489                Богдан Старовойтов     5"
      ]
     },
     "execution_count": 14,
     "metadata": {},
     "output_type": "execute_result"
    }
   ],
   "source": [
    "df.head(10)"
   ]
  },
  {
   "cell_type": "code",
   "execution_count": null,
   "metadata": {},
   "outputs": [],
   "source": []
  }
 ],
 "metadata": {
  "kernelspec": {
   "display_name": "Python 3",
   "language": "python",
   "name": "python3"
  },
  "language_info": {
   "codemirror_mode": {
    "name": "ipython",
    "version": 3
   },
   "file_extension": ".py",
   "mimetype": "text/x-python",
   "name": "python",
   "nbconvert_exporter": "python",
   "pygments_lexer": "ipython3",
   "version": "3.6.8"
  }
 },
 "nbformat": 4,
 "nbformat_minor": 2
}
